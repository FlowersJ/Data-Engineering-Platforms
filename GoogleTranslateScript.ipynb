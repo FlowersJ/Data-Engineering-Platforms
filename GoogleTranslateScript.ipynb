{
 "cells": [
  {
   "cell_type": "code",
   "execution_count": 138,
   "metadata": {},
   "outputs": [],
   "source": [
    "import pandas as pd"
   ]
  },
  {
   "cell_type": "code",
   "execution_count": 139,
   "metadata": {},
   "outputs": [],
   "source": [
    "CatData = pd.read_csv(\"FinalCatData.csv\",low_memory=False)"
   ]
  },
  {
   "cell_type": "code",
   "execution_count": 140,
   "metadata": {},
   "outputs": [],
   "source": [
    "#setting up a string of the most commonly used words in the english language. \n",
    "commonENwords = ['the','be','to','of','and','in','that','have','no','none','is','No','None','No suggestions']\n",
    "commonENwords = '|'.join(commonENwords)"
   ]
  },
  {
   "cell_type": "code",
   "execution_count": 141,
   "metadata": {},
   "outputs": [
    {
     "data": {
      "text/plain": [
       "'the|be|to|of|and|in|that|have|no|none|is|No|None|No suggestions'"
      ]
     },
     "execution_count": 141,
     "metadata": {},
     "output_type": "execute_result"
    }
   ],
   "source": [
    "commonENwords"
   ]
  },
  {
   "cell_type": "code",
   "execution_count": 142,
   "metadata": {},
   "outputs": [],
   "source": [
    "CatData['HasEnglish'] = CatData.Customer_Recommendations.str.contains(commonENwords)"
   ]
  },
  {
   "cell_type": "code",
   "execution_count": 150,
   "metadata": {},
   "outputs": [],
   "source": [
    "#subsetting the data down to all languages sans english and for those rows that don't contain english words listed above\n",
    "CatDataNonEnglish = CatData[(CatData['HasEnglish']==False) & (CatData['LANGUAGE_ISO_CODE']!='en')]"
   ]
  },
  {
   "cell_type": "code",
   "execution_count": 109,
   "metadata": {},
   "outputs": [],
   "source": [
    "#subsetting the data further to create a data frame that only contains the column we want to translate\n",
    "CatDataNonEnglishForAPI = pd.DataFrame(CatDataNonEnglish['Customer_Recommendations'])"
   ]
  },
  {
   "cell_type": "code",
   "execution_count": 113,
   "metadata": {},
   "outputs": [],
   "source": [
    "#getting the row count needed for the for loop \n",
    "RowCount = len(CatDataNonEnglishForAPI.index)"
   ]
  },
  {
   "cell_type": "code",
   "execution_count": 115,
   "metadata": {},
   "outputs": [],
   "source": [
    "# Imports the Google Cloud client library\n",
    "from google.cloud import translate\n",
    "\n",
    "# Instantiates a client\n",
    "translate_client = translate.Client()"
   ]
  },
  {
   "cell_type": "code",
   "execution_count": 116,
   "metadata": {},
   "outputs": [],
   "source": [
    "#creating an empty list to be filled by API. \n",
    "translation = [None]*RowCount"
   ]
  },
  {
   "cell_type": "code",
   "execution_count": 118,
   "metadata": {},
   "outputs": [],
   "source": [
    "#running the API below through a for loop to pass each cell individually\n",
    "for i in range(RowCount):\n",
    "    translation[i] = translate_client.translate(CatDataNonEnglishForAPI.iloc[i,0],target_language='en')"
   ]
  },
  {
   "cell_type": "code",
   "execution_count": 119,
   "metadata": {},
   "outputs": [],
   "source": [
    "#putting the data back into a dataframe\n",
    "translationDF = pd.DataFrame(translation)"
   ]
  },
  {
   "cell_type": "code",
   "execution_count": 129,
   "metadata": {},
   "outputs": [],
   "source": [
    "#merging the translations back with the dataframe that was subsetted to non english. Know that each row will line up, thus \n",
    "#concat in this case will work properly. \n",
    "CatDataNonEnglishForAPIwithtranslations = pd.concat([CatDataNonEnglish.reset_index(drop=True), translationDF], axis=1)"
   ]
  },
  {
   "cell_type": "code",
   "execution_count": 132,
   "metadata": {},
   "outputs": [],
   "source": [
    "#narrowing the dataframe above to columns that we'll use to to a left join with the orignal dataset\n",
    "ForMerging = CatDataNonEnglishForAPIwithtranslations[['_recordId', 'translatedText']].copy()"
   ]
  },
  {
   "cell_type": "code",
   "execution_count": 135,
   "metadata": {},
   "outputs": [],
   "source": [
    "#doing a left join to merge our translated text with the original dataframe\n",
    "CatData = pd.merge(CatData, ForMerging, how='left', on='_recordId')"
   ]
  }
 ],
 "metadata": {
  "kernelspec": {
   "display_name": "Python 3",
   "language": "python",
   "name": "python3"
  },
  "language_info": {
   "codemirror_mode": {
    "name": "ipython",
    "version": 3
   },
   "file_extension": ".py",
   "mimetype": "text/x-python",
   "name": "python",
   "nbconvert_exporter": "python",
   "pygments_lexer": "ipython3",
   "version": "3.7.3"
  }
 },
 "nbformat": 4,
 "nbformat_minor": 2
}
